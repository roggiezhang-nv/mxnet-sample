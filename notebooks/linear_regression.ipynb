{
 "cells": [
  {
   "cell_type": "code",
   "execution_count": 222,
   "metadata": {},
   "outputs": [
    {
     "name": "stdout",
     "output_type": "stream",
     "text": [
      "      x          y\n",
      "0  24.0  21.549452\n",
      "1  50.0  47.464463\n",
      "2  15.0  17.218656\n",
      "3  38.0  36.586398\n",
      "4  87.0  87.288984\n",
      "===========train data info================\n",
      "<class 'pandas.core.frame.DataFrame'>\n",
      "Int64Index: 699 entries, 0 to 699\n",
      "Data columns (total 2 columns):\n",
      "x    699 non-null float64\n",
      "y    699 non-null float64\n",
      "dtypes: float64(2)\n",
      "memory usage: 16.4 KB\n",
      "===========test data info================\n",
      "<class 'pandas.core.frame.DataFrame'>\n",
      "RangeIndex: 300 entries, 0 to 299\n",
      "Data columns (total 2 columns):\n",
      "x    300 non-null int64\n",
      "y    300 non-null float64\n",
      "dtypes: float64(1), int64(1)\n",
      "memory usage: 4.8 KB\n"
     ]
    }
   ],
   "source": [
    "import mxnet as mx\n",
    "import matplotlib.pyplot as plt\n",
    "import pandas as pd\n",
    "import numpy as np\n",
    "\n",
    "\n",
    "train_data = pd.read_csv('train.csv')\n",
    "test_data = pd.read_csv('test.csv')\n",
    "\n",
    "train_data = train_data.dropna()\n",
    "\n",
    "print(train_data.head())\n",
    "print('===========train data info================')\n",
    "train_data.info()\n",
    "print('===========test data info================')\n",
    "test_data.info()"
   ]
  },
  {
   "cell_type": "code",
   "execution_count": 223,
   "metadata": {},
   "outputs": [
    {
     "data": {
      "image/png": "[encoded data removed]",
      "text/plain": [
       "<matplotlib.figure.Figure at 0x7f51034767d0>"
      ]
     },
     "metadata": {},
     "output_type": "display_data"
    }
   ],
   "source": [
    "train_X, train_Y, test_X, test_Y = train_data['x'].as_matrix(), train_data['y'].as_matrix(), \\\n",
    "                                    test_data['x'].as_matrix(), test_data['y'].as_matrix()"
   ]
  },
  {
   "cell_type": "code",
   "execution_count": 224,
   "metadata": {},
   "outputs": [],
   "source": [
    "train_iter = mx.io.NDArrayIter(data=train_X, label=train_Y, batch_size = 1, \n",
    "                               shuffle = True, data_name= 'x', label_name='y')\n",
    "test_iter = mx.io.NDArrayIter(data=test_X, label=test_Y, batch_size = 1, shuffle = False)"
   ]
  },
  {
   "cell_type": "code",
   "execution_count": 225,
   "metadata": {},
   "outputs": [
    {
     "data": {
      "image/svg+xml": [
       "<?xml version=\"1.0\" encoding=\"UTF-8\" standalone=\"no\"?>\n",
       "<!DOCTYPE svg PUBLIC \"-//W3C//DTD SVG 1.1//EN\"\n",
       " \"http://www.w3.org/Graphics/SVG/1.1/DTD/svg11.dtd\">\n",
       "<!-- Generated by graphviz version 2.38.0 (20140413.2041)\n",
       " -->\n",
       "<!-- Title: plot Pages: 1 -->\n",
       "<svg width=\"214pt\" height=\"254pt\"\n",
       " viewBox=\"0.00 0.00 214.00 254.00\" xmlns=\"http://www.w3.org/2000/svg\" xmlns:xlink=\"http://www.w3.org/1999/xlink\">\n",
       "<g id=\"graph0\" class=\"graph\" transform=\"scale(1 1) rotate(0) translate(4 250)\">\n",
       "<title>plot</title>\n",
       "<polygon fill=\"white\" stroke=\"none\" points=\"-4,4 -4,-250 210,-250 210,4 -4,4\"/>\n",
       "<!-- x -->\n",
       "<g id=\"node1\" class=\"node\"><title>x</title>\n",
       "<ellipse fill=\"#8dd3c7\" stroke=\"black\" cx=\"47\" cy=\"-29\" rx=\"47\" ry=\"29\"/>\n",
       "<text text-anchor=\"middle\" x=\"47\" y=\"-25.3\" font-family=\"Times,serif\" font-size=\"14.00\">x</text>\n",
       "</g>\n",
       "<!-- fc1 -->\n",
       "<g id=\"node2\" class=\"node\"><title>fc1</title>\n",
       "<polygon fill=\"#fb8072\" stroke=\"black\" points=\"94,-152 -7.10543e-15,-152 -7.10543e-15,-94 94,-94 94,-152\"/>\n",
       "<text text-anchor=\"middle\" x=\"47\" y=\"-126.8\" font-family=\"Times,serif\" font-size=\"14.00\">FullyConnected</text>\n",
       "<text text-anchor=\"middle\" x=\"47\" y=\"-111.8\" font-family=\"Times,serif\" font-size=\"14.00\">1</text>\n",
       "</g>\n",
       "<!-- fc1&#45;&gt;x -->\n",
       "<g id=\"edge1\" class=\"edge\"><title>fc1&#45;&gt;x</title>\n",
       "<path fill=\"none\" stroke=\"black\" d=\"M47,-83.7443C47,-75.2043 47,-66.2977 47,-58.2479\"/>\n",
       "<polygon fill=\"black\" stroke=\"black\" points=\"47,-93.8971 42.5001,-83.897 47,-88.8971 47.0001,-83.8971 47.0001,-83.8971 47.0001,-83.8971 47,-88.8971 51.5001,-83.8971 47,-93.8971 47,-93.8971\"/>\n",
       "</g>\n",
       "<!-- y -->\n",
       "<g id=\"node3\" class=\"node\"><title>y</title>\n",
       "<ellipse fill=\"#8dd3c7\" stroke=\"black\" cx=\"159\" cy=\"-123\" rx=\"47\" ry=\"29\"/>\n",
       "<text text-anchor=\"middle\" x=\"159\" y=\"-119.3\" font-family=\"Times,serif\" font-size=\"14.00\">y</text>\n",
       "</g>\n",
       "<!-- lro -->\n",
       "<g id=\"node4\" class=\"node\"><title>lro</title>\n",
       "<polygon fill=\"#fccde5\" stroke=\"black\" points=\"150,-246 56,-246 56,-188 150,-188 150,-246\"/>\n",
       "<text text-anchor=\"middle\" x=\"103\" y=\"-213.3\" font-family=\"Times,serif\" font-size=\"14.00\">lro</text>\n",
       "</g>\n",
       "<!-- lro&#45;&gt;fc1 -->\n",
       "<g id=\"edge2\" class=\"edge\"><title>lro&#45;&gt;fc1</title>\n",
       "<path fill=\"none\" stroke=\"black\" d=\"M80.5686,-179.148C75.113,-170.186 69.3635,-160.74 64.1943,-152.248\"/>\n",
       "<polygon fill=\"black\" stroke=\"black\" points=\"85.8939,-187.897 76.8505,-181.695 83.2941,-183.626 80.6944,-179.355 80.6944,-179.355 80.6944,-179.355 83.2941,-183.626 84.5383,-177.015 85.8939,-187.897 85.8939,-187.897\"/>\n",
       "</g>\n",
       "<!-- lro&#45;&gt;y -->\n",
       "<g id=\"edge3\" class=\"edge\"><title>lro&#45;&gt;y</title>\n",
       "<path fill=\"none\" stroke=\"black\" d=\"M125.377,-179.237C131.257,-169.578 137.481,-159.353 142.955,-150.36\"/>\n",
       "<polygon fill=\"black\" stroke=\"black\" points=\"120.106,-187.897 121.462,-177.015 122.706,-183.626 125.306,-179.355 125.306,-179.355 125.306,-179.355 122.706,-183.626 129.15,-181.695 120.106,-187.897 120.106,-187.897\"/>\n",
       "</g>\n",
       "</g>\n",
       "</svg>\n"
      ],
      "text/plain": [
       "<graphviz.dot.Digraph at 0x7f50dc629390>"
      ]
     },
     "execution_count": 225,
     "metadata": {},
     "output_type": "execute_result"
    }
   ],
   "source": [
    "x = mx.sym.var('x')\n",
    "y = mx.sym.var('y')\n",
    "\n",
    "yhat = mx.sym.FullyConnected(data=x, num_hidden=1, name = 'fc1')\n",
    "lro = mx.sym.LinearRegressionOutput(data = yhat, label = y, name = 'lro')\n",
    "mx.viz.plot_network(lro)\n",
    "#model.bind(data_shapes=train_iter.provide_data, label_shapes=train_iter.provide_label)"
   ]
  },
  {
   "cell_type": "code",
   "execution_count": 231,
   "metadata": {},
   "outputs": [],
   "source": [
    "model = mx.mod.Module(symbol = lro, data_names = ['x'], label_names = ['y'])\n",
    "model.bind(data_shapes=train_iter.provide_data, label_shapes=train_iter.provide_label)"
   ]
  },
  {
   "cell_type": "code",
   "execution_count": 232,
   "metadata": {},
   "outputs": [
    {
     "name": "stdout",
     "output_type": "stream",
     "text": [
      "({'fc1_bias': \n",
      "[ 0.]\n",
      "<NDArray 1 @cpu(0)>, 'fc1_weight': \n",
      "[[-0.09509452]]\n",
      "<NDArray 1x1 @cpu(0)>}, {})\n"
     ]
    }
   ],
   "source": [
    "model.init_params(initializer=mx.initializer.Uniform(scale = 0.1), force_init=True)\n",
    "model.init_optimizer(optimizer='adam', optimizer_params={'wd' : 0.0001, 'learning_rate' : 0.005})\n",
    "metric = mx.metric.create('mse')\n",
    "print(model.get_params())"
   ]
  },
  {
   "cell_type": "code",
   "execution_count": 233,
   "metadata": {},
   "outputs": [
    {
     "name": "stdout",
     "output_type": "stream",
     "text": [
      "Epoch 0, Training ('mse', 647.06109256838147)\n",
      "Epoch 1, Training ('mse', 8.3493672908575309)\n",
      "Epoch 2, Training ('mse', 8.3672373148893033)\n",
      "Epoch 3, Training ('mse', 8.3613483518462939)\n",
      "Epoch 4, Training ('mse', 8.3620603420270641)\n",
      "Epoch 5, Training ('mse', 8.3729762773806282)\n",
      "Epoch 6, Training ('mse', 8.3923311165313876)\n",
      "Epoch 7, Training ('mse', 8.4135068970807882)\n",
      "Epoch 8, Training ('mse', 8.4294276510040582)\n",
      "Epoch 9, Training ('mse', 8.4382391750794383)\n"
     ]
    }
   ],
   "source": [
    "epochs = 10\n",
    "for i in range(epochs):\n",
    "    train_iter.reset()\n",
    "    metric.reset()\n",
    "    for data in train_iter:\n",
    "        model.forward(data, is_train=True)\n",
    "        model.update_metric(metric, data.label[0])\n",
    "        model.backward()\n",
    "        model.update()\n",
    "    print('Epoch %d, Training %s' % (i, metric.get()))"
   ]
  },
  {
   "cell_type": "code",
   "execution_count": 236,
   "metadata": {},
   "outputs": [
    {
     "name": "stdout",
     "output_type": "stream",
     "text": [
      "[('mse', 9.3650079169848084)]\n",
      "({'fc1_bias': \n",
      "[ 0.16647752]\n",
      "<NDArray 1 @cpu(0)>, 'fc1_weight': \n",
      "[[ 1.01053631]]\n",
      "<NDArray 1x1 @cpu(0)>}, {})\n"
     ]
    }
   ],
   "source": [
    "metric = mx.metric.MSE()\n",
    "print(model.score(test_iter, metric))\n",
    "print(model.get_params())"
   ]
  },
  {
   "cell_type": "code",
   "execution_count": 249,
   "metadata": {},
   "outputs": [
    {
     "data": {
      "image/png": "[encoded data removed]",
      "text/plain": [
       "<matplotlib.figure.Figure at 0x7f51033fb7d0>"
      ]
     },
     "metadata": {},
     "output_type": "display_data"
    }
   ],
   "source": [
    "min, max = train_X.min(), train_X.max()\n",
    "line_x = np.linspace(min, max, 100)\n",
    "line_y = line_x * model.get_params()[0]['fc1_weight'].asnumpy() + model.get_params()[0]['fc1_bias'].asnumpy()\n",
    "line_y = line_y[0]\n",
    "\n",
    "plt.title('fit')\n",
    "plt.plot(train_X, train_Y, color = 'b')\n",
    "plt.plot(line_x, line_y, color = 'r')\n",
    "plt.show()"
   ]
  }
 ],
 "metadata": {
  "kernelspec": {
   "display_name": "Python 2",
   "language": "python",
   "name": "python2"
  },
  "language_info": {
   "codemirror_mode": {
    "name": "ipython",
    "version": 2
   },
   "file_extension": ".py",
   "mimetype": "text/x-python",
   "name": "python",
   "nbconvert_exporter": "python",
   "pygments_lexer": "ipython2",
   "version": "2.7.12"
  }
 },
 "nbformat": 4,
 "nbformat_minor": 2
}
