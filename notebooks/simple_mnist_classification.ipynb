{
 "cells": [
  {
   "cell_type": "code",
   "execution_count": 2,
   "metadata": {
    "scrolled": true
   },
   "outputs": [],
   "source": [
    "import sys\n",
    "import os\n",
    "import mxnet as mx\n",
    "import numpy as np\n",
    "import matplotlib.pyplot as plt\n",
    "\n",
    "sys.path.append('../python')\n",
    "\n",
    "from ml.utils.get_data import get_mnist_iter"
   ]
  },
  {
   "cell_type": "code",
   "execution_count": 3,
   "metadata": {
    "collapsed": true
   },
   "outputs": [],
   "source": [
    "mnist_train_iter, mnist_test_iter = get_mnist_iter(32)"
   ]
  },
  {
   "cell_type": "code",
   "execution_count": 4,
   "metadata": {},
   "outputs": [
    {
     "data": {
      "image/png": "[encoded data removed]",
      "text/plain": [
       "<matplotlib.figure.Figure at 0x7f7997f61350>"
      ]
     },
     "metadata": {},
     "output_type": "display_data"
    }
   ],
   "source": [
    "batch = mnist_train_iter.next()\n",
    "four_images = batch.data[0][0:4]\n",
    "\n",
    "for i in range(4):\n",
    "    plt.subplot(1, 4, i + 1)\n",
    "    img = mx.nd.reshape(four_images[i], (28, 28)).asnumpy() * 255\n",
    "    plt.imshow(img.astype(np.uint8))\n",
    "\n",
    "plt.show()\n",
    "mnist_train_iter.reset()"
   ]
  },
  {
   "cell_type": "code",
   "execution_count": 5,
   "metadata": {},
   "outputs": [
    {
     "data": {
      "text/plain": [
       "['data',\n",
       " 'conv1_weight',\n",
       " 'conv1_bias',\n",
       " 'conv2_weight',\n",
       " 'conv2_bias',\n",
       " 'fc1_weight',\n",
       " 'fc1_bias',\n",
       " 'fc2_weight',\n",
       " 'fc2_bias',\n",
       " 'softmax_label']"
      ]
     },
     "execution_count": 5,
     "metadata": {},
     "output_type": "execute_result"
    }
   ],
   "source": [
    "net = mx.sym.var('data')\n",
    "net = mx.sym.Convolution(data = net, kernel = (3, 3), num_filter=64, stride=(1, 1), pad=(1, 1), name = 'conv1')\n",
    "net = mx.sym.Activation(data = net, act_type = 'relu', name = 'relu1')\n",
    "net = mx.sym.Convolution(data = net, kernel = (3, 3), num_filter=64, stride=(1, 1), pad = (1, 1), name = 'conv2')\n",
    "net = mx.sym.Activation(data = net, act_type = 'relu', name = 'relu2')\n",
    "net = mx.sym.Pooling(data = net, stride = (2, 2), pad=(0, 0), kernel=(2, 2), pool_type = 'max', name = 'pool1')\n",
    "net = mx.sym.FullyConnected(data = net, num_hidden=64, name = 'fc1')\n",
    "net = mx.sym.Activation(data = net, act_type = 'relu', name = 'relu3')\n",
    "net = mx.sym.FullyConnected(data = net, num_hidden = 10, name = 'fc2')\n",
    "net = mx.sym.SoftmaxOutput(data = net, name='softmax')\n",
    "\n",
    "net.list_arguments()\n",
    "net.list_inputs()"
   ]
  },
  {
   "cell_type": "code",
   "execution_count": 6,
   "metadata": {
    "collapsed": true
   },
   "outputs": [],
   "source": [
    "model = mx.mod.Module(context = mx.gpu(), symbol = net, data_names = ['data'], label_names = ['softmax_label'])\n",
    "model.bind(data_shapes=mnist_train_iter.provide_data, label_shapes = mnist_train_iter.provide_label)\n",
    "model.init_params(initializer=mx.initializer.Xavier(magnitude=2.24))\n",
    "model.init_optimizer(optimizer='sgd', optimizer_params={'learning_rate' : 0.0003, 'momentum' : 0.95})"
   ]
  },
  {
   "cell_type": "code",
   "execution_count": 7,
   "metadata": {},
   "outputs": [
    {
     "name": "stdout",
     "output_type": "stream",
     "text": [
      "Epoch 0, Training accuracy ('accuracy', 0.43646666666666667)\n",
      "Epoch 0, Test accuracy [('accuracy', 0.6831070287539937)]\n",
      "Epoch 1, Training accuracy ('accuracy', 0.7788333333333334)\n",
      "Epoch 1, Test accuracy [('accuracy', 0.8342651757188498)]\n",
      "Epoch 2, Training accuracy ('accuracy', 0.8436833333333333)\n",
      "Epoch 2, Test accuracy [('accuracy', 0.8523362619808307)]\n",
      "Epoch 3, Training accuracy ('accuracy', 0.8597666666666667)\n",
      "Epoch 3, Test accuracy [('accuracy', 0.8653154952076677)]\n",
      "Epoch 4, Training accuracy ('accuracy', 0.8707166666666667)\n",
      "Epoch 4, Test accuracy [('accuracy', 0.8759984025559105)]\n",
      "Epoch 5, Training accuracy ('accuracy', 0.8808833333333334)\n",
      "Epoch 5, Test accuracy [('accuracy', 0.8855830670926518)]\n",
      "Epoch 6, Training accuracy ('accuracy', 0.8904833333333333)\n",
      "Epoch 6, Test accuracy [('accuracy', 0.8912739616613419)]\n",
      "Epoch 7, Training accuracy ('accuracy', 0.89855)\n",
      "Epoch 7, Test accuracy [('accuracy', 0.8987619808306709)]\n",
      "Epoch 8, Training accuracy ('accuracy', 0.90695)\n",
      "Epoch 8, Test accuracy [('accuracy', 0.9042531948881789)]\n",
      "Epoch 9, Training accuracy ('accuracy', 0.91365)\n",
      "Epoch 9, Test accuracy [('accuracy', 0.9107428115015974)]\n",
      "Epoch 10, Training accuracy ('accuracy', 0.9200833333333334)\n",
      "Epoch 10, Test accuracy [('accuracy', 0.9138378594249201)]\n",
      "Epoch 11, Training accuracy ('accuracy', 0.9253)\n",
      "Epoch 11, Test accuracy [('accuracy', 0.9174321086261981)]\n",
      "Epoch 12, Training accuracy ('accuracy', 0.9302833333333334)\n",
      "Epoch 12, Test accuracy [('accuracy', 0.9198282747603834)]\n",
      "Epoch 13, Training accuracy ('accuracy', 0.93485)\n",
      "Epoch 13, Test accuracy [('accuracy', 0.9213258785942492)]\n",
      "Epoch 14, Training accuracy ('accuracy', 0.9392833333333334)\n",
      "Epoch 14, Test accuracy [('accuracy', 0.9240215654952076)]\n",
      "Epoch 15, Training accuracy ('accuracy', 0.9428333333333333)\n",
      "Epoch 15, Test accuracy [('accuracy', 0.9259185303514377)]\n",
      "Epoch 16, Training accuracy ('accuracy', 0.9458166666666666)\n",
      "Epoch 16, Test accuracy [('accuracy', 0.9281150159744409)]\n",
      "Epoch 17, Training accuracy ('accuracy', 0.9486666666666667)\n",
      "Epoch 17, Test accuracy [('accuracy', 0.9298123003194888)]\n",
      "Epoch 18, Training accuracy ('accuracy', 0.9515333333333333)\n",
      "Epoch 18, Test accuracy [('accuracy', 0.9313099041533547)]\n",
      "Epoch 19, Training accuracy ('accuracy', 0.9540833333333333)\n",
      "Epoch 19, Test accuracy [('accuracy', 0.9322084664536742)]\n"
     ]
    }
   ],
   "source": [
    "metric = mx.metric.Accuracy()\n",
    "epochs = 20\n",
    "\n",
    "for epoch in range(epochs):\n",
    "    mnist_train_iter.reset()\n",
    "    metric.reset()\n",
    "    \n",
    "    for batch in mnist_train_iter:\n",
    "        model.forward(batch, is_train=True)\n",
    "        #predictions = mx.nd.argmax(model.get_outputs()[0], axis = 1)\n",
    "        model.update_metric(metric, batch.label)\n",
    "        model.backward()\n",
    "        model.update()\n",
    "    \n",
    "    print('Epoch %d, Training accuracy %s' % (epoch, metric.get()))\n",
    "    val_metric = mx.metric.Accuracy()\n",
    "    val_metric.reset()\n",
    "    print('Epoch %d, Test accuracy %s' % (epoch, model.score(eval_data=mnist_test_iter, eval_metric=val_metric)))"
   ]
  },
  {
   "cell_type": "code",
   "execution_count": null,
   "metadata": {
    "collapsed": true
   },
   "outputs": [],
   "source": []
  }
 ],
 "metadata": {
  "kernelspec": {
   "display_name": "Python 2",
   "language": "python",
   "name": "python2"
  },
  "language_info": {
   "codemirror_mode": {
    "name": "ipython",
    "version": 2
   },
   "file_extension": ".py",
   "mimetype": "text/x-python",
   "name": "python",
   "nbconvert_exporter": "python",
   "pygments_lexer": "ipython2",
   "version": "2.7.12"
  }
 },
 "nbformat": 4,
 "nbformat_minor": 2
}
