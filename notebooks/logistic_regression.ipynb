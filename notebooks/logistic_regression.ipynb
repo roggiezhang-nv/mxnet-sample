{
 "cells": [
  {
   "cell_type": "code",
   "execution_count": 9,
   "metadata": {},
   "outputs": [
    {
     "data": {
      "image/png": "[encoded data removed]",
      "text/plain": [
       "<matplotlib.figure.Figure at 0x7f11c6646278>"
      ]
     },
     "metadata": {},
     "output_type": "display_data"
    }
   ],
   "source": [
    "import mxnet as mx\n",
    "import numpy as np\n",
    "import pandas as pd\n",
    "import matplotlib.pyplot as plt\n",
    "import math\n",
    "\n",
    "center = mx.nd.array((10.0, 10.0))\n",
    "\n",
    "num_samples = 1000\n",
    "\n",
    "r1 = mx.nd.random_uniform(4.0, 5.0, shape = (num_samples, ))\n",
    "theta1 = mx.nd.random_uniform(0, 2 * math.pi, shape = (num_samples, ))\n",
    "x11 = r1 * mx.nd.cos(theta1) + center[0]\n",
    "x12 = r1 * mx.nd.sin(theta1) + center[1]\n",
    "data1 = mx.nd.stack(x11, x12, mx.nd.sqrt(x11**2 + x12**2)).T\n",
    "label1 = mx.nd.zeros((num_samples))\n",
    "\n",
    "r2 = mx.nd.random_uniform(2.0, 3.0, shape = (num_samples, ))\n",
    "theta2 = mx.nd.random_uniform(0, 2 * math.pi, shape = (num_samples, ))\n",
    "x21 = r2 * mx.nd.cos(theta2) + center[0]\n",
    "x22 = r2 * mx.nd.sin(theta2) + center[1]\n",
    "data2 = mx.nd.stack(x21, x22, x21 * x22).T\n",
    "label2 = mx.nd.ones((num_samples))\n",
    "\n",
    "plt.scatter(data1[:, 0].asnumpy(), data1[:, 1].asnumpy(), color = 'b')\n",
    "plt.scatter(data2[:, 0].asnumpy(), data2[:, 1].asnumpy(), color = 'r')\n",
    "plt.show()"
   ]
  },
  {
   "cell_type": "code",
   "execution_count": 10,
   "metadata": {
    "collapsed": true
   },
   "outputs": [],
   "source": [
    "data = mx.nd.concat(data1, data2, dim = 0)\n",
    "label = mx.nd.concat(label1, label2, dim = 0)\n",
    "\n",
    "train_ratio = 1\n",
    "train_size = int(train_ratio * data.shape[0])\n",
    "#train_data, test_data = data[:train_size], data[train_size:]\n",
    "#train_label, test_label = label[:train_size], label[train_size:]\n",
    "train_iter = mx.io.NDArrayIter(data = data, label = label, shuffle = True, batch_size = 64)\n",
    "#test_iter = mx.io.NDArrayIter(data = test_data, label = test_label, shuffle = False, batch_size = 32)"
   ]
  },
  {
   "cell_type": "code",
   "execution_count": 20,
   "metadata": {},
   "outputs": [
    {
     "data": {
      "image/svg+xml": [
       "<?xml version=\"1.0\" encoding=\"UTF-8\" standalone=\"no\"?>\n",
       "<!DOCTYPE svg PUBLIC \"-//W3C//DTD SVG 1.1//EN\"\n",
       " \"http://www.w3.org/Graphics/SVG/1.1/DTD/svg11.dtd\">\n",
       "<!-- Generated by graphviz version 2.38.0 (20140413.2041)\n",
       " -->\n",
       "<!-- Title: plot Pages: 1 -->\n",
       "<svg width=\"214pt\" height=\"254pt\"\n",
       " viewBox=\"0.00 0.00 214.00 254.00\" xmlns=\"http://www.w3.org/2000/svg\" xmlns:xlink=\"http://www.w3.org/1999/xlink\">\n",
       "<g id=\"graph0\" class=\"graph\" transform=\"scale(1 1) rotate(0) translate(4 250)\">\n",
       "<title>plot</title>\n",
       "<polygon fill=\"white\" stroke=\"none\" points=\"-4,4 -4,-250 210,-250 210,4 -4,4\"/>\n",
       "<!-- data -->\n",
       "<g id=\"node1\" class=\"node\"><title>data</title>\n",
       "<ellipse fill=\"#8dd3c7\" stroke=\"black\" cx=\"47\" cy=\"-29\" rx=\"47\" ry=\"29\"/>\n",
       "<text text-anchor=\"middle\" x=\"47\" y=\"-25.3\" font-family=\"Times,serif\" font-size=\"14.00\">data</text>\n",
       "</g>\n",
       "<!-- fc1 -->\n",
       "<g id=\"node2\" class=\"node\"><title>fc1</title>\n",
       "<polygon fill=\"#fb8072\" stroke=\"black\" points=\"94,-152 -7.10543e-15,-152 -7.10543e-15,-94 94,-94 94,-152\"/>\n",
       "<text text-anchor=\"middle\" x=\"47\" y=\"-126.8\" font-family=\"Times,serif\" font-size=\"14.00\">FullyConnected</text>\n",
       "<text text-anchor=\"middle\" x=\"47\" y=\"-111.8\" font-family=\"Times,serif\" font-size=\"14.00\">1</text>\n",
       "</g>\n",
       "<!-- fc1&#45;&gt;data -->\n",
       "<g id=\"edge1\" class=\"edge\"><title>fc1&#45;&gt;data</title>\n",
       "<path fill=\"none\" stroke=\"black\" d=\"M47,-83.7443C47,-75.2043 47,-66.2977 47,-58.2479\"/>\n",
       "<polygon fill=\"black\" stroke=\"black\" points=\"47,-93.8971 42.5001,-83.897 47,-88.8971 47.0001,-83.8971 47.0001,-83.8971 47.0001,-83.8971 47,-88.8971 51.5001,-83.8971 47,-93.8971 47,-93.8971\"/>\n",
       "</g>\n",
       "<!-- softmax_label -->\n",
       "<g id=\"node3\" class=\"node\"><title>softmax_label</title>\n",
       "<ellipse fill=\"#8dd3c7\" stroke=\"black\" cx=\"159\" cy=\"-123\" rx=\"47\" ry=\"29\"/>\n",
       "<text text-anchor=\"middle\" x=\"159\" y=\"-119.3\" font-family=\"Times,serif\" font-size=\"14.00\">softmax_label</text>\n",
       "</g>\n",
       "<!-- softmax -->\n",
       "<g id=\"node4\" class=\"node\"><title>softmax</title>\n",
       "<polygon fill=\"#fccde5\" stroke=\"black\" points=\"150,-246 56,-246 56,-188 150,-188 150,-246\"/>\n",
       "<text text-anchor=\"middle\" x=\"103\" y=\"-213.3\" font-family=\"Times,serif\" font-size=\"14.00\">softmax</text>\n",
       "</g>\n",
       "<!-- softmax&#45;&gt;fc1 -->\n",
       "<g id=\"edge2\" class=\"edge\"><title>softmax&#45;&gt;fc1</title>\n",
       "<path fill=\"none\" stroke=\"black\" d=\"M80.5686,-179.148C75.113,-170.186 69.3635,-160.74 64.1943,-152.248\"/>\n",
       "<polygon fill=\"black\" stroke=\"black\" points=\"85.8939,-187.897 76.8505,-181.695 83.2941,-183.626 80.6944,-179.355 80.6944,-179.355 80.6944,-179.355 83.2941,-183.626 84.5383,-177.015 85.8939,-187.897 85.8939,-187.897\"/>\n",
       "</g>\n",
       "<!-- softmax&#45;&gt;softmax_label -->\n",
       "<g id=\"edge3\" class=\"edge\"><title>softmax&#45;&gt;softmax_label</title>\n",
       "<path fill=\"none\" stroke=\"black\" d=\"M125.377,-179.237C131.257,-169.578 137.481,-159.353 142.955,-150.36\"/>\n",
       "<polygon fill=\"black\" stroke=\"black\" points=\"120.106,-187.897 121.462,-177.015 122.706,-183.626 125.306,-179.355 125.306,-179.355 125.306,-179.355 122.706,-183.626 129.15,-181.695 120.106,-187.897 120.106,-187.897\"/>\n",
       "</g>\n",
       "</g>\n",
       "</svg>\n"
      ],
      "text/plain": [
       "<graphviz.dot.Digraph at 0x7f11c64de4a8>"
      ]
     },
     "execution_count": 20,
     "metadata": {},
     "output_type": "execute_result"
    }
   ],
   "source": [
    "net = mx.sym.Variable('data')\n",
    "net = mx.sym.FullyConnected(net, name='fc1', num_hidden=1)\n",
    "net = mx.sym.LinearRegressionOutput(net, name='softmax')\n",
    "mx.viz.plot_network(net)"
   ]
  },
  {
   "cell_type": "code",
   "execution_count": 27,
   "metadata": {
    "collapsed": true
   },
   "outputs": [],
   "source": [
    "model = mx.mod.Module(context = mx.gpu(), symbol = net, data_names = ['data'], label_names = ['softmax_label'])\n",
    "model.bind(data_shapes=train_iter.provide_data, label_shapes = train_iter.provide_label)\n",
    "model.init_params(initializer=mx.initializer.Uniform(scale = 0.1))\n",
    "model.init_optimizer(optimizer='sgd', optimizer_params={'learning_rate' : 0.00001, 'momentum' : 0.9})"
   ]
  },
  {
   "cell_type": "code",
   "execution_count": 28,
   "metadata": {},
   "outputs": [
    {
     "name": "stdout",
     "output_type": "stream",
     "text": [
      "Epoch 0, Training ('accuracy', 0.732421875)\n",
      "Epoch 1, Training ('accuracy', 0.9453125)\n",
      "Epoch 2, Training ('accuracy', 0.99658203125)\n",
      "Epoch 3, Training ('accuracy', 1.0)\n",
      "Epoch 4, Training ('accuracy', 1.0)\n",
      "Epoch 5, Training ('accuracy', 1.0)\n",
      "Epoch 6, Training ('accuracy', 1.0)\n",
      "Epoch 7, Training ('accuracy', 1.0)\n",
      "Epoch 8, Training ('accuracy', 1.0)\n",
      "Epoch 9, Training ('accuracy', 1.0)\n"
     ]
    }
   ],
   "source": [
    "metric = mx.metric.Accuracy()\n",
    "\n",
    "epochs = 10\n",
    "for epoch in range(epochs):\n",
    "    train_iter.reset()\n",
    "    metric.reset()\n",
    "    for batch in train_iter:\n",
    "        model.forward(batch, is_train=True)       # compute predictions\n",
    "        predictions = model.get_outputs()[0] > 0.5 # convert to label\n",
    "        metric.update(preds=predictions, labels=batch.label[0]) # accumulate prediction accuracy\n",
    "        model.backward()                          # compute gradients\n",
    "        model.update()                            # update parameters\n",
    "    print('Epoch %d, Training %s' % (epoch, metric.get()))"
   ]
  },
  {
   "cell_type": "code",
   "execution_count": null,
   "metadata": {
    "collapsed": true
   },
   "outputs": [],
   "source": []
  },
  {
   "cell_type": "code",
   "execution_count": null,
   "metadata": {
    "collapsed": true
   },
   "outputs": [],
   "source": []
  }
 ],
 "metadata": {
  "kernelspec": {
   "display_name": "Python 3",
   "language": "python",
   "name": "python3"
  },
  "language_info": {
   "codemirror_mode": {
    "name": "ipython",
    "version": 3
   },
   "file_extension": ".py",
   "mimetype": "text/x-python",
   "name": "python",
   "nbconvert_exporter": "python",
   "pygments_lexer": "ipython3",
   "version": "3.6.1"
  }
 },
 "nbformat": 4,
 "nbformat_minor": 2
}
